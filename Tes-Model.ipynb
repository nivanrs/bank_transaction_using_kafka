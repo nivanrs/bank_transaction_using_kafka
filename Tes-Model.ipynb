{
 "cells": [
  {
   "cell_type": "code",
   "execution_count": 12,
   "id": "7ae4393c-1f24-4029-b623-e0232a07da66",
   "metadata": {
    "tags": []
   },
   "outputs": [],
   "source": [
    "from modelling import FraudModel"
   ]
  },
  {
   "cell_type": "code",
   "execution_count": 13,
   "id": "0167c710-636c-4c9f-812b-3db4dc6d3b0e",
   "metadata": {
    "tags": []
   },
   "outputs": [
    {
     "data": {
      "text/plain": [
       "{'step': 1,\n",
       " 'type': 'PAYMENT',\n",
       " 'amount': 9839.64,\n",
       " 'oldbalanceOrg': 170136.0,\n",
       " 'newbalanceOrig': 160296.36,\n",
       " 'oldbalanceDest': 0.0,\n",
       " 'newbalanceDest': 0.0}"
      ]
     },
     "execution_count": 13,
     "metadata": {},
     "output_type": "execute_result"
    }
   ],
   "source": [
    "#parameter inputan data\n",
    "new_data = {\n",
    "    'step': 1,\n",
    "    'type': 'PAYMENT',\n",
    "    'amount': 9839.64,\n",
    "    'oldbalanceOrg': 170136.0,\n",
    "    'newbalanceOrig': 160296.36,\n",
    "    'oldbalanceDest': 0.0,\n",
    "    'newbalanceDest': 0.0\n",
    "}\n",
    "\n",
    "new_data"
   ]
  },
  {
   "cell_type": "code",
   "execution_count": 14,
   "id": "2fb5e06f-5a49-431e-acbe-093b2fadd2fe",
   "metadata": {
    "tags": []
   },
   "outputs": [
    {
     "data": {
      "text/plain": [
       "'/Users/moladin/Library/Mobile Documents/com~apple~CloudDocs/code/kafka/modelling/'"
      ]
     },
     "execution_count": 14,
     "metadata": {},
     "output_type": "execute_result"
    }
   ],
   "source": [
    "#parameter inputan path\n",
    "import os\n",
    "\n",
    "path = os.getcwd()\n",
    "path = path + \"/modelling/\"\n",
    "path"
   ]
  },
  {
   "cell_type": "code",
   "execution_count": 15,
   "id": "c4b367d2-7f25-4df1-85ab-57f5ab931df4",
   "metadata": {
    "tags": []
   },
   "outputs": [
    {
     "ename": "FileNotFoundError",
     "evalue": "[Errno 2] No such file or directory: '/Users/moladin/Library/Mobile Documents/com~apple~CloudDocs/code/kafka/modelling/packages\\\\preptype.pkl'",
     "output_type": "error",
     "traceback": [
      "\u001b[0;31m---------------------------------------------------------------------------\u001b[0m",
      "\u001b[0;31mFileNotFoundError\u001b[0m                         Traceback (most recent call last)",
      "\u001b[1;32m/Users/moladin/Library/Mobile Documents/com~apple~CloudDocs/code/kafka/Tes-Model.ipynb Cell 4\u001b[0m line \u001b[0;36m1\n\u001b[0;32m----> <a href='vscode-notebook-cell:/Users/moladin/Library/Mobile%20Documents/com~apple~CloudDocs/code/kafka/Tes-Model.ipynb#W3sZmlsZQ%3D%3D?line=0'>1</a>\u001b[0m FraudModel\u001b[39m.\u001b[39mrunModel(new_data, path)\n",
      "File \u001b[0;32m~/Library/Mobile Documents/com~apple~CloudDocs/code/kafka/modelling/FraudModel.py:23\u001b[0m, in \u001b[0;36mrunModel\u001b[0;34m(data, path)\u001b[0m\n\u001b[1;32m     20\u001b[0m df \u001b[39m=\u001b[39m pd\u001b[39m.\u001b[39mDataFrame(data, index\u001b[39m=\u001b[39m[\u001b[39m0\u001b[39m])\n\u001b[1;32m     21\u001b[0m df \u001b[39m=\u001b[39m df[col]\n\u001b[0;32m---> 23\u001b[0m df \u001b[39m=\u001b[39m prepOneHotEncoder(df, \u001b[39m'\u001b[39m\u001b[39mtype\u001b[39m\u001b[39m'\u001b[39m, pathPackages)\n\u001b[1;32m     25\u001b[0m cols_to_scale \u001b[39m=\u001b[39m [\u001b[39m'\u001b[39m\u001b[39mamount\u001b[39m\u001b[39m'\u001b[39m, \u001b[39m'\u001b[39m\u001b[39moldbalanceOrg\u001b[39m\u001b[39m'\u001b[39m, \u001b[39m'\u001b[39m\u001b[39mnewbalanceOrig\u001b[39m\u001b[39m'\u001b[39m, \u001b[39m'\u001b[39m\u001b[39moldbalanceDest\u001b[39m\u001b[39m'\u001b[39m, \u001b[39m'\u001b[39m\u001b[39mnewbalanceDest\u001b[39m\u001b[39m'\u001b[39m]\n\u001b[1;32m     26\u001b[0m \u001b[39mfor\u001b[39;00m col \u001b[39min\u001b[39;00m cols_to_scale:\n",
      "File \u001b[0;32m~/Library/Mobile Documents/com~apple~CloudDocs/code/kafka/modelling/FraudModel.py:6\u001b[0m, in \u001b[0;36mprepOneHotEncoder\u001b[0;34m(df, col, pathPackages)\u001b[0m\n\u001b[1;32m      5\u001b[0m \u001b[39mdef\u001b[39;00m \u001b[39mprepOneHotEncoder\u001b[39m(df, col, pathPackages):\n\u001b[0;32m----> 6\u001b[0m     oneHotEncoder \u001b[39m=\u001b[39m pickle\u001b[39m.\u001b[39mload(\u001b[39mopen\u001b[39m(pathPackages \u001b[39m+\u001b[39m \u001b[39m'\u001b[39m\u001b[39m\\\\\u001b[39;00m\u001b[39m'\u001b[39m \u001b[39m+\u001b[39m \u001b[39m'\u001b[39m\u001b[39mprep\u001b[39m\u001b[39m'\u001b[39m \u001b[39m+\u001b[39m col \u001b[39m+\u001b[39m \u001b[39m'\u001b[39m\u001b[39m.pkl\u001b[39m\u001b[39m'\u001b[39m, \u001b[39m'\u001b[39m\u001b[39mrb\u001b[39m\u001b[39m'\u001b[39m))\n\u001b[1;32m      7\u001b[0m     dfOneHotEncoder \u001b[39m=\u001b[39m pd\u001b[39m.\u001b[39mDataFrame(oneHotEncoder\u001b[39m.\u001b[39mtransform(df[[col]])\u001b[39m.\u001b[39mtoarray(),\n\u001b[1;32m      8\u001b[0m                                    columns\u001b[39m=\u001b[39m[col \u001b[39m+\u001b[39m \u001b[39m\"\u001b[39m\u001b[39m_\u001b[39m\u001b[39m\"\u001b[39m \u001b[39m+\u001b[39m \u001b[39mstr\u001b[39m(i\u001b[39m+\u001b[39m\u001b[39m1\u001b[39m) \u001b[39mfor\u001b[39;00m i \u001b[39min\u001b[39;00m \u001b[39mrange\u001b[39m(\u001b[39mlen\u001b[39m(oneHotEncoder\u001b[39m.\u001b[39mcategories_[\u001b[39m0\u001b[39m]))])\n\u001b[1;32m      9\u001b[0m     df \u001b[39m=\u001b[39m pd\u001b[39m.\u001b[39mconcat([df\u001b[39m.\u001b[39mdrop(col, axis\u001b[39m=\u001b[39m\u001b[39m1\u001b[39m), dfOneHotEncoder], axis\u001b[39m=\u001b[39m\u001b[39m1\u001b[39m)\n",
      "\u001b[0;31mFileNotFoundError\u001b[0m: [Errno 2] No such file or directory: '/Users/moladin/Library/Mobile Documents/com~apple~CloudDocs/code/kafka/modelling/packages\\\\preptype.pkl'"
     ]
    }
   ],
   "source": [
    "FraudModel.runModel(new_data, path)"
   ]
  },
  {
   "cell_type": "code",
   "execution_count": null,
   "id": "1e44f3ac-be20-4b75-b79f-9678cc1f71e7",
   "metadata": {},
   "outputs": [],
   "source": []
  }
 ],
 "metadata": {
  "kernelspec": {
   "display_name": "Python 3 (ipykernel)",
   "language": "python",
   "name": "python3"
  },
  "language_info": {
   "codemirror_mode": {
    "name": "ipython",
    "version": 3
   },
   "file_extension": ".py",
   "mimetype": "text/x-python",
   "name": "python",
   "nbconvert_exporter": "python",
   "pygments_lexer": "ipython3",
   "version": "3.11.0"
  }
 },
 "nbformat": 4,
 "nbformat_minor": 5
}
